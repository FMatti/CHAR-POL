{
 "cells": [
  {
   "cell_type": "code",
   "execution_count": null,
   "metadata": {},
   "outputs": [],
   "source": [
    "%load_ext autoreload\n",
    "%autoreload 2"
   ]
  },
  {
   "cell_type": "code",
   "execution_count": null,
   "metadata": {},
   "outputs": [],
   "source": [
    "import matplotlib.pyplot as plt\n",
    "\n",
    "from src.matrices import get_A1, get_A2, get_A3\n",
    "from src.methods import baseline, leverrier, krylov, hyman, summation\n",
    "from src.helpers import plot_coefficient_errors"
   ]
  },
  {
   "cell_type": "code",
   "execution_count": null,
   "metadata": {},
   "outputs": [],
   "source": [
    "ns = [10, 60]\n",
    "matrices = [get_A1, get_A2, get_A3]\n",
    "methods = [leverrier, krylov, hyman, summation]\n",
    "\n",
    "fig, ax = plt.subplots(len(ns), len(matrices))\n",
    "\n",
    "for i, n in enumerate(ns):\n",
    "    for j, matrix in enumerate(matrices):\n",
    "        A = matrix(n)\n",
    "        coeffs_baseline = baseline(A)\n",
    "        for method in methods:\n",
    "            coeffs = method(A)\n",
    "            plot_coefficient_errors(coeffs, coeffs_baseline, mode=\"relative\", ax=ax[i, j])\n",
    "\n",
    "plt.tight_layout()\n",
    "plt.show()"
   ]
  }
 ],
 "metadata": {
  "kernelspec": {
   "display_name": "Python 3",
   "language": "python",
   "name": "python3"
  },
  "language_info": {
   "codemirror_mode": {
    "name": "ipython",
    "version": 3
   },
   "file_extension": ".py",
   "mimetype": "text/x-python",
   "name": "python",
   "nbconvert_exporter": "python",
   "pygments_lexer": "ipython3",
   "version": "3.11.2"
  },
  "orig_nbformat": 4
 },
 "nbformat": 4,
 "nbformat_minor": 2
}
