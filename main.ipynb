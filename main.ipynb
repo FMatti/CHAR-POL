{
 "cells": [
  {
   "cell_type": "code",
   "execution_count": 1,
   "metadata": {},
   "outputs": [],
   "source": [
    "%load_ext autoreload\n",
    "%autoreload 2"
   ]
  },
  {
   "cell_type": "code",
   "execution_count": 2,
   "metadata": {},
   "outputs": [],
   "source": [
    "import numpy as np\n",
    "\n",
    "from src.matrices import get_A1, get_A2, get_A3\n",
    "from src.methods import baseline"
   ]
  },
  {
   "cell_type": "code",
   "execution_count": 3,
   "metadata": {},
   "outputs": [],
   "source": [
    "n = 5\n",
    "A1 = get_A1(n)\n",
    "A2 = get_A2(n)\n",
    "A3 = get_A3(n)"
   ]
  },
  {
   "cell_type": "code",
   "execution_count": 4,
   "metadata": {},
   "outputs": [],
   "source": [
    "coeffs_A1 = baseline(A1)\n",
    "coeffs_A2 = baseline(A2)\n",
    "coeffs_A3 = baseline(A3)"
   ]
  },
  {
   "cell_type": "code",
   "execution_count": 5,
   "metadata": {},
   "outputs": [
    {
     "data": {
      "text/latex": [
       "$x \\mapsto \\text{1.0} - \\text{9.0}\\,x + \\text{28.0}\\,x^{2} - \\text{35.0}\\,x^{3} + \\text{15.0}\\,x^{4} - \\text{1.0}\\,x^{5}$"
      ],
      "text/plain": [
       "Polynomial([  1.,  -9.,  28., -35.,  15.,  -1.], domain=[-1,  1], window=[-1,  1], symbol='x')"
      ]
     },
     "execution_count": 5,
     "metadata": {},
     "output_type": "execute_result"
    }
   ],
   "source": [
    "np.polynomial.Polynomial(coeffs_A1)"
   ]
  },
  {
   "cell_type": "code",
   "execution_count": 6,
   "metadata": {},
   "outputs": [
    {
     "data": {
      "text/latex": [
       "$x \\mapsto \\text{1.0} + \\text{1.07929421}\\,x - \\text{0.38918619}\\,x^{2} - \\text{0.12216343}\\,x^{3} + \\text{0.03268227}\\,x^{4} - \\text{0.00071516}\\,x^{5}$"
      ],
      "text/plain": [
       "Polynomial([ 1.00000000e+00,  1.07929421e+00, -3.89186189e-01, -1.22163430e-01,\n",
       "        3.26822661e-02, -7.15159814e-04], domain=[-1,  1], window=[-1,  1], symbol='x')"
      ]
     },
     "execution_count": 6,
     "metadata": {},
     "output_type": "execute_result"
    }
   ],
   "source": [
    "np.polynomial.Polynomial(coeffs_A2)"
   ]
  },
  {
   "cell_type": "code",
   "execution_count": 7,
   "metadata": {},
   "outputs": [
    {
     "data": {
      "text/latex": [
       "$x \\mapsto \\text{1.0} - \\text{15.0}\\,x + \\text{55.0}\\,x^{2} - \\text{55.0}\\,x^{3} + \\text{15.0}\\,x^{4} - \\text{1.0}\\,x^{5}$"
      ],
      "text/plain": [
       "Polynomial([  1., -15.,  55., -55.,  15.,  -1.], domain=[-1,  1], window=[-1,  1], symbol='x')"
      ]
     },
     "execution_count": 7,
     "metadata": {},
     "output_type": "execute_result"
    }
   ],
   "source": [
    "np.polynomial.Polynomial(coeffs_A3)"
   ]
  },
  {
   "cell_type": "code",
   "execution_count": null,
   "metadata": {},
   "outputs": [],
   "source": []
  }
 ],
 "metadata": {
  "kernelspec": {
   "display_name": "Python 3",
   "language": "python",
   "name": "python3"
  },
  "language_info": {
   "codemirror_mode": {
    "name": "ipython",
    "version": 3
   },
   "file_extension": ".py",
   "mimetype": "text/x-python",
   "name": "python",
   "nbconvert_exporter": "python",
   "pygments_lexer": "ipython3",
   "version": "3.11.2"
  },
  "orig_nbformat": 4
 },
 "nbformat": 4,
 "nbformat_minor": 2
}
