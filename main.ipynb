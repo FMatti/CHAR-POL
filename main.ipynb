{
 "cells": [
  {
   "cell_type": "code",
   "execution_count": null,
   "metadata": {},
   "outputs": [],
   "source": [
    "import matplotlib.pyplot as plt\n",
    "\n",
    "from src.matrices import A_1, A_2, A_3\n",
    "from src.methods import baseline, leverrier, krylov, hyman, summation\n",
    "from src.helpers import plot_coefficient_errors, compute_coefficient_errors"
   ]
  },
  {
   "cell_type": "code",
   "execution_count": null,
   "metadata": {},
   "outputs": [],
   "source": [
    "modes = [\"absolute\", \"relative\"]\n",
    "ns = [10, 60]\n",
    "matrices = [\"A_1\", \"A_2\", \"A_3\"]\n",
    "methods = [\"leverrier\", \"krylov\", \"hyman\", \"summation\"]\n",
    "\n",
    "kwargs = {\"linestyle\": \"--\", \"linewidth\": 1, \"marker\": \"o\", \"markersize\": 3, \"alpha\": 0.7, \"label\": None}\n",
    "\n",
    "for mode in modes:\n",
    "    fig, ax = plt.subplots(len(matrices), len(ns), sharex='col', sharey='row', gridspec_kw={'width_ratios':[n / min(ns) for n in ns]}, figsize=(7, 7))\n",
    "    for i, matrix in enumerate(matrices):\n",
    "        ax[i, 0].set_ylabel(\"error for ${}$\".format(matrix))\n",
    "        for j, n in enumerate(ns):\n",
    "            ax[i, j].set_xlim(0, n)\n",
    "            ax[-1, j].set_xlabel(\"$c_i$ for $n={}$\".format(n))\n",
    "            A = eval(matrix)(n)\n",
    "            coeffs_baseline = baseline(A)\n",
    "            for method in methods:\n",
    "                coeffs = eval(method)(A)\n",
    "                kwargs[\"label\"] = \"{}\".format(method)\n",
    "                plot_coefficient_errors(coeffs, coeffs_baseline, mode=mode, ax=ax[i, j], **kwargs)\n",
    "\n",
    "    ax[0, -1].legend(ncol=len(methods), loc='upper center', bbox_to_anchor=(0.4, 1.3), fancybox=False, framealpha=1, edgecolor='k')\n",
    "    \n",
    "    fig.suptitle(mode + \" error\")\n",
    "    plt.subplots_adjust(wspace=0.05, hspace=0.1)\n",
    "    plt.show()"
   ]
  },
  {
   "cell_type": "code",
   "execution_count": null,
   "metadata": {},
   "outputs": [],
   "source": []
  }
 ],
 "metadata": {
  "kernelspec": {
   "display_name": "Python 3",
   "language": "python",
   "name": "python3"
  },
  "language_info": {
   "codemirror_mode": {
    "name": "ipython",
    "version": 3
   },
   "file_extension": ".py",
   "mimetype": "text/x-python",
   "name": "python",
   "nbconvert_exporter": "python",
   "pygments_lexer": "ipython3",
   "version": "3.11.2"
  },
  "orig_nbformat": 4
 },
 "nbformat": 4,
 "nbformat_minor": 2
}
